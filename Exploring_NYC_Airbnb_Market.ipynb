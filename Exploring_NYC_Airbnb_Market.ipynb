{
  "nbformat": 4,
  "nbformat_minor": 0,
  "metadata": {
    "colab": {
      "provenance": []
    },
    "kernelspec": {
      "name": "python3",
      "display_name": "Python 3"
    },
    "language_info": {
      "name": "python"
    }
  },
  "cells": [
    {
      "cell_type": "code",
      "source": [
        "import pandas as pd\n",
        "import numpy as np\n",
        "import datetime as dt\n",
        "\n",
        "prices = pd.read_csv('/content/airbnb_price.csv')\n",
        "xls = pd.ExcelFile('/content/airbnb_room_type.xlsx')\n",
        "room_type = xls.parse()\n",
        "\n",
        "reviews = pd.read_csv('/content/airbnb_last_review.csv')"
      ],
      "metadata": {
        "id": "-FlpR7QWAotE"
      },
      "execution_count": 14,
      "outputs": []
    },
    {
      "cell_type": "code",
      "source": [
        "prices.head().style.background_gradient()"
      ],
      "metadata": {
        "colab": {
          "base_uri": "https://localhost:8080/",
          "height": 206
        },
        "id": "uXSomGMmBAM2",
        "outputId": "59dced8e-4044-4361-80fa-ba36b74a544d"
      },
      "execution_count": 15,
      "outputs": [
        {
          "output_type": "execute_result",
          "data": {
            "text/plain": [
              "<pandas.io.formats.style.Styler at 0x797850738fd0>"
            ],
            "text/html": [
              "<style type=\"text/css\">\n",
              "#T_afe3a_row0_col0 {\n",
              "  background-color: #fff7fb;\n",
              "  color: #000000;\n",
              "}\n",
              "#T_afe3a_row1_col0 {\n",
              "  background-color: #81aed2;\n",
              "  color: #f1f1f1;\n",
              "}\n",
              "#T_afe3a_row2_col0 {\n",
              "  background-color: #03466e;\n",
              "  color: #f1f1f1;\n",
              "}\n",
              "#T_afe3a_row3_col0 {\n",
              "  background-color: #023d60;\n",
              "  color: #f1f1f1;\n",
              "}\n",
              "#T_afe3a_row4_col0 {\n",
              "  background-color: #023858;\n",
              "  color: #f1f1f1;\n",
              "}\n",
              "</style>\n",
              "<table id=\"T_afe3a\" class=\"dataframe\">\n",
              "  <thead>\n",
              "    <tr>\n",
              "      <th class=\"blank level0\" >&nbsp;</th>\n",
              "      <th id=\"T_afe3a_level0_col0\" class=\"col_heading level0 col0\" >listing_id</th>\n",
              "      <th id=\"T_afe3a_level0_col1\" class=\"col_heading level0 col1\" >price</th>\n",
              "      <th id=\"T_afe3a_level0_col2\" class=\"col_heading level0 col2\" >nbhood_full</th>\n",
              "    </tr>\n",
              "  </thead>\n",
              "  <tbody>\n",
              "    <tr>\n",
              "      <th id=\"T_afe3a_level0_row0\" class=\"row_heading level0 row0\" >0</th>\n",
              "      <td id=\"T_afe3a_row0_col0\" class=\"data row0 col0\" >2595</td>\n",
              "      <td id=\"T_afe3a_row0_col1\" class=\"data row0 col1\" >225 dollars</td>\n",
              "      <td id=\"T_afe3a_row0_col2\" class=\"data row0 col2\" >Manhattan, Midtown</td>\n",
              "    </tr>\n",
              "    <tr>\n",
              "      <th id=\"T_afe3a_level0_row1\" class=\"row_heading level0 row1\" >1</th>\n",
              "      <td id=\"T_afe3a_row1_col0\" class=\"data row1 col0\" >3831</td>\n",
              "      <td id=\"T_afe3a_row1_col1\" class=\"data row1 col1\" >89 dollars</td>\n",
              "      <td id=\"T_afe3a_row1_col2\" class=\"data row1 col2\" >Brooklyn, Clinton Hill</td>\n",
              "    </tr>\n",
              "    <tr>\n",
              "      <th id=\"T_afe3a_level0_row2\" class=\"row_heading level0 row2\" >2</th>\n",
              "      <td id=\"T_afe3a_row2_col0\" class=\"data row2 col0\" >5099</td>\n",
              "      <td id=\"T_afe3a_row2_col1\" class=\"data row2 col1\" >200 dollars</td>\n",
              "      <td id=\"T_afe3a_row2_col2\" class=\"data row2 col2\" >Manhattan, Murray Hill</td>\n",
              "    </tr>\n",
              "    <tr>\n",
              "      <th id=\"T_afe3a_level0_row3\" class=\"row_heading level0 row3\" >3</th>\n",
              "      <td id=\"T_afe3a_row3_col0\" class=\"data row3 col0\" >5178</td>\n",
              "      <td id=\"T_afe3a_row3_col1\" class=\"data row3 col1\" >79 dollars</td>\n",
              "      <td id=\"T_afe3a_row3_col2\" class=\"data row3 col2\" >Manhattan, Hell's Kitchen</td>\n",
              "    </tr>\n",
              "    <tr>\n",
              "      <th id=\"T_afe3a_level0_row4\" class=\"row_heading level0 row4\" >4</th>\n",
              "      <td id=\"T_afe3a_row4_col0\" class=\"data row4 col0\" >5238</td>\n",
              "      <td id=\"T_afe3a_row4_col1\" class=\"data row4 col1\" >150 dollars</td>\n",
              "      <td id=\"T_afe3a_row4_col2\" class=\"data row4 col2\" >Manhattan, Chinatown</td>\n",
              "    </tr>\n",
              "  </tbody>\n",
              "</table>\n"
            ]
          },
          "metadata": {},
          "execution_count": 15
        }
      ]
    },
    {
      "cell_type": "code",
      "source": [
        "room_type.head(10).style.background_gradient()"
      ],
      "metadata": {
        "colab": {
          "base_uri": "https://localhost:8080/",
          "height": 363
        },
        "id": "Nl7SQKYHCDUS",
        "outputId": "334e6c84-0e93-488e-c67b-0a17832d3996"
      },
      "execution_count": 23,
      "outputs": [
        {
          "output_type": "execute_result",
          "data": {
            "text/plain": [
              "<pandas.io.formats.style.Styler at 0x7978507396f0>"
            ],
            "text/html": [
              "<style type=\"text/css\">\n",
              "#T_ab27a_row0_col0 {\n",
              "  background-color: #fff7fb;\n",
              "  color: #000000;\n",
              "}\n",
              "#T_ab27a_row1_col0 {\n",
              "  background-color: #c2cbe2;\n",
              "  color: #000000;\n",
              "}\n",
              "#T_ab27a_row2_col0 {\n",
              "  background-color: #4897c4;\n",
              "  color: #f1f1f1;\n",
              "}\n",
              "#T_ab27a_row3_col0 {\n",
              "  background-color: #3f93c2;\n",
              "  color: #f1f1f1;\n",
              "}\n",
              "#T_ab27a_row4_col0 {\n",
              "  background-color: #3790c0;\n",
              "  color: #f1f1f1;\n",
              "}\n",
              "#T_ab27a_row5_col0 {\n",
              "  background-color: #328dbf;\n",
              "  color: #f1f1f1;\n",
              "}\n",
              "#T_ab27a_row6_col0 {\n",
              "  background-color: #2484ba;\n",
              "  color: #f1f1f1;\n",
              "}\n",
              "#T_ab27a_row7_col0 {\n",
              "  background-color: #056fae;\n",
              "  color: #f1f1f1;\n",
              "}\n",
              "#T_ab27a_row8_col0 {\n",
              "  background-color: #0566a0;\n",
              "  color: #f1f1f1;\n",
              "}\n",
              "#T_ab27a_row9_col0 {\n",
              "  background-color: #023858;\n",
              "  color: #f1f1f1;\n",
              "}\n",
              "</style>\n",
              "<table id=\"T_ab27a\" class=\"dataframe\">\n",
              "  <thead>\n",
              "    <tr>\n",
              "      <th class=\"blank level0\" >&nbsp;</th>\n",
              "      <th id=\"T_ab27a_level0_col0\" class=\"col_heading level0 col0\" >listing_id</th>\n",
              "      <th id=\"T_ab27a_level0_col1\" class=\"col_heading level0 col1\" >description</th>\n",
              "      <th id=\"T_ab27a_level0_col2\" class=\"col_heading level0 col2\" >room_type</th>\n",
              "    </tr>\n",
              "  </thead>\n",
              "  <tbody>\n",
              "    <tr>\n",
              "      <th id=\"T_ab27a_level0_row0\" class=\"row_heading level0 row0\" >0</th>\n",
              "      <td id=\"T_ab27a_row0_col0\" class=\"data row0 col0\" >2595</td>\n",
              "      <td id=\"T_ab27a_row0_col1\" class=\"data row0 col1\" >Skylit Midtown Castle</td>\n",
              "      <td id=\"T_ab27a_row0_col2\" class=\"data row0 col2\" >Entire home/apt</td>\n",
              "    </tr>\n",
              "    <tr>\n",
              "      <th id=\"T_ab27a_level0_row1\" class=\"row_heading level0 row1\" >1</th>\n",
              "      <td id=\"T_ab27a_row1_col0\" class=\"data row1 col0\" >3831</td>\n",
              "      <td id=\"T_ab27a_row1_col1\" class=\"data row1 col1\" >Cozy Entire Floor of Brownstone</td>\n",
              "      <td id=\"T_ab27a_row1_col2\" class=\"data row1 col2\" >Entire home/apt</td>\n",
              "    </tr>\n",
              "    <tr>\n",
              "      <th id=\"T_ab27a_level0_row2\" class=\"row_heading level0 row2\" >2</th>\n",
              "      <td id=\"T_ab27a_row2_col0\" class=\"data row2 col0\" >5099</td>\n",
              "      <td id=\"T_ab27a_row2_col1\" class=\"data row2 col1\" >Large Cozy 1 BR Apartment In Midtown East</td>\n",
              "      <td id=\"T_ab27a_row2_col2\" class=\"data row2 col2\" >Entire home/apt</td>\n",
              "    </tr>\n",
              "    <tr>\n",
              "      <th id=\"T_ab27a_level0_row3\" class=\"row_heading level0 row3\" >3</th>\n",
              "      <td id=\"T_ab27a_row3_col0\" class=\"data row3 col0\" >5178</td>\n",
              "      <td id=\"T_ab27a_row3_col1\" class=\"data row3 col1\" >Large Furnished Room Near B'way</td>\n",
              "      <td id=\"T_ab27a_row3_col2\" class=\"data row3 col2\" >private room</td>\n",
              "    </tr>\n",
              "    <tr>\n",
              "      <th id=\"T_ab27a_level0_row4\" class=\"row_heading level0 row4\" >4</th>\n",
              "      <td id=\"T_ab27a_row4_col0\" class=\"data row4 col0\" >5238</td>\n",
              "      <td id=\"T_ab27a_row4_col1\" class=\"data row4 col1\" >Cute & Cozy Lower East Side 1 bdrm</td>\n",
              "      <td id=\"T_ab27a_row4_col2\" class=\"data row4 col2\" >Entire home/apt</td>\n",
              "    </tr>\n",
              "    <tr>\n",
              "      <th id=\"T_ab27a_level0_row5\" class=\"row_heading level0 row5\" >5</th>\n",
              "      <td id=\"T_ab27a_row5_col0\" class=\"data row5 col0\" >5295</td>\n",
              "      <td id=\"T_ab27a_row5_col1\" class=\"data row5 col1\" >Beautiful 1br on Upper West Side</td>\n",
              "      <td id=\"T_ab27a_row5_col2\" class=\"data row5 col2\" >Entire home/apt</td>\n",
              "    </tr>\n",
              "    <tr>\n",
              "      <th id=\"T_ab27a_level0_row6\" class=\"row_heading level0 row6\" >6</th>\n",
              "      <td id=\"T_ab27a_row6_col0\" class=\"data row6 col0\" >5441</td>\n",
              "      <td id=\"T_ab27a_row6_col1\" class=\"data row6 col1\" >Central Manhattan/near Broadway</td>\n",
              "      <td id=\"T_ab27a_row6_col2\" class=\"data row6 col2\" >Private room</td>\n",
              "    </tr>\n",
              "    <tr>\n",
              "      <th id=\"T_ab27a_level0_row7\" class=\"row_heading level0 row7\" >7</th>\n",
              "      <td id=\"T_ab27a_row7_col0\" class=\"data row7 col0\" >5803</td>\n",
              "      <td id=\"T_ab27a_row7_col1\" class=\"data row7 col1\" >Lovely Room 1, Garden, Best Area, Legal rental</td>\n",
              "      <td id=\"T_ab27a_row7_col2\" class=\"data row7 col2\" >Private room</td>\n",
              "    </tr>\n",
              "    <tr>\n",
              "      <th id=\"T_ab27a_level0_row8\" class=\"row_heading level0 row8\" >8</th>\n",
              "      <td id=\"T_ab27a_row8_col0\" class=\"data row8 col0\" >6021</td>\n",
              "      <td id=\"T_ab27a_row8_col1\" class=\"data row8 col1\" >Wonderful Guest Bedroom in Manhattan for SINGLES</td>\n",
              "      <td id=\"T_ab27a_row8_col2\" class=\"data row8 col2\" >Private room</td>\n",
              "    </tr>\n",
              "    <tr>\n",
              "      <th id=\"T_ab27a_level0_row9\" class=\"row_heading level0 row9\" >9</th>\n",
              "      <td id=\"T_ab27a_row9_col0\" class=\"data row9 col0\" >6848</td>\n",
              "      <td id=\"T_ab27a_row9_col1\" class=\"data row9 col1\" >Only 2 stops to Manhattan studio</td>\n",
              "      <td id=\"T_ab27a_row9_col2\" class=\"data row9 col2\" >entire home/apt</td>\n",
              "    </tr>\n",
              "  </tbody>\n",
              "</table>\n"
            ]
          },
          "metadata": {},
          "execution_count": 23
        }
      ]
    },
    {
      "cell_type": "code",
      "source": [
        "reviews.head().style.background_gradient()"
      ],
      "metadata": {
        "colab": {
          "base_uri": "https://localhost:8080/",
          "height": 206
        },
        "id": "fQOM6km1CSR2",
        "outputId": "5aa18607-bb71-44db-f8fd-9b04ccde5bcc"
      },
      "execution_count": 17,
      "outputs": [
        {
          "output_type": "execute_result",
          "data": {
            "text/plain": [
              "<pandas.io.formats.style.Styler at 0x797850739750>"
            ],
            "text/html": [
              "<style type=\"text/css\">\n",
              "#T_85f01_row0_col0 {\n",
              "  background-color: #fff7fb;\n",
              "  color: #000000;\n",
              "}\n",
              "#T_85f01_row1_col0 {\n",
              "  background-color: #81aed2;\n",
              "  color: #f1f1f1;\n",
              "}\n",
              "#T_85f01_row2_col0 {\n",
              "  background-color: #03466e;\n",
              "  color: #f1f1f1;\n",
              "}\n",
              "#T_85f01_row3_col0 {\n",
              "  background-color: #023d60;\n",
              "  color: #f1f1f1;\n",
              "}\n",
              "#T_85f01_row4_col0 {\n",
              "  background-color: #023858;\n",
              "  color: #f1f1f1;\n",
              "}\n",
              "</style>\n",
              "<table id=\"T_85f01\" class=\"dataframe\">\n",
              "  <thead>\n",
              "    <tr>\n",
              "      <th class=\"blank level0\" >&nbsp;</th>\n",
              "      <th id=\"T_85f01_level0_col0\" class=\"col_heading level0 col0\" > listing_id</th>\n",
              "      <th id=\"T_85f01_level0_col1\" class=\"col_heading level0 col1\" >host_name</th>\n",
              "      <th id=\"T_85f01_level0_col2\" class=\"col_heading level0 col2\" >last_review</th>\n",
              "    </tr>\n",
              "  </thead>\n",
              "  <tbody>\n",
              "    <tr>\n",
              "      <th id=\"T_85f01_level0_row0\" class=\"row_heading level0 row0\" >0</th>\n",
              "      <td id=\"T_85f01_row0_col0\" class=\"data row0 col0\" >2595</td>\n",
              "      <td id=\"T_85f01_row0_col1\" class=\"data row0 col1\" >Jennifer</td>\n",
              "      <td id=\"T_85f01_row0_col2\" class=\"data row0 col2\" >May 21 2019</td>\n",
              "    </tr>\n",
              "    <tr>\n",
              "      <th id=\"T_85f01_level0_row1\" class=\"row_heading level0 row1\" >1</th>\n",
              "      <td id=\"T_85f01_row1_col0\" class=\"data row1 col0\" >3831</td>\n",
              "      <td id=\"T_85f01_row1_col1\" class=\"data row1 col1\" >LisaRoxanne</td>\n",
              "      <td id=\"T_85f01_row1_col2\" class=\"data row1 col2\" >July 05 2019</td>\n",
              "    </tr>\n",
              "    <tr>\n",
              "      <th id=\"T_85f01_level0_row2\" class=\"row_heading level0 row2\" >2</th>\n",
              "      <td id=\"T_85f01_row2_col0\" class=\"data row2 col0\" >5099</td>\n",
              "      <td id=\"T_85f01_row2_col1\" class=\"data row2 col1\" >Chris</td>\n",
              "      <td id=\"T_85f01_row2_col2\" class=\"data row2 col2\" >June 22 2019</td>\n",
              "    </tr>\n",
              "    <tr>\n",
              "      <th id=\"T_85f01_level0_row3\" class=\"row_heading level0 row3\" >3</th>\n",
              "      <td id=\"T_85f01_row3_col0\" class=\"data row3 col0\" >5178</td>\n",
              "      <td id=\"T_85f01_row3_col1\" class=\"data row3 col1\" >Shunichi</td>\n",
              "      <td id=\"T_85f01_row3_col2\" class=\"data row3 col2\" >June 24 2019</td>\n",
              "    </tr>\n",
              "    <tr>\n",
              "      <th id=\"T_85f01_level0_row4\" class=\"row_heading level0 row4\" >4</th>\n",
              "      <td id=\"T_85f01_row4_col0\" class=\"data row4 col0\" >5238</td>\n",
              "      <td id=\"T_85f01_row4_col1\" class=\"data row4 col1\" >Ben</td>\n",
              "      <td id=\"T_85f01_row4_col2\" class=\"data row4 col2\" >June 09 2019</td>\n",
              "    </tr>\n",
              "  </tbody>\n",
              "</table>\n"
            ]
          },
          "metadata": {},
          "execution_count": 17
        }
      ]
    },
    {
      "cell_type": "markdown",
      "source": [
        "#Cleaning the price column"
      ],
      "metadata": {
        "id": "3e5gdMQZCtlu"
      }
    },
    {
      "cell_type": "code",
      "source": [
        "prices[\"price\"] = prices['price'].str.replace(' dollars', \"\") # removing whitespaces\n",
        "\n",
        "prices[\"price\"] = pd.to_numeric(prices[\"price\"])  #converting data to numeric\n",
        "\n",
        "print(prices['price'].describe())"
      ],
      "metadata": {
        "colab": {
          "base_uri": "https://localhost:8080/"
        },
        "id": "tYndTjkGCl43",
        "outputId": "fd0581af-bf0e-4fc6-dd91-57c03e10c0da"
      },
      "execution_count": 18,
      "outputs": [
        {
          "output_type": "stream",
          "name": "stdout",
          "text": [
            "count    25209.000000\n",
            "mean       141.777936\n",
            "std        147.349137\n",
            "min          0.000000\n",
            "25%         69.000000\n",
            "50%        105.000000\n",
            "75%        175.000000\n",
            "max       7500.000000\n",
            "Name: price, dtype: float64\n"
          ]
        }
      ]
    },
    {
      "cell_type": "markdown",
      "source": [
        "#Calculate average price\n",
        "\n",
        "the three quaters of listing cost $175\n",
        "\n",
        "but there are some outliers in prices as the max price is $7500 per night."
      ],
      "metadata": {
        "id": "egLy73GjDsVh"
      }
    },
    {
      "cell_type": "code",
      "source": [
        "free_listing = prices[\"price\"] == 0\n",
        "\n",
        "prices = prices.loc[~free_listing]\n",
        "\n",
        "avg_price = round(prices[\"price\"]. mean(), 2)\n",
        "\n",
        "print(\"Average price per night for AirBnb in NYC is ${}.\". format(avg_price))\n"
      ],
      "metadata": {
        "colab": {
          "base_uri": "https://localhost:8080/"
        },
        "id": "N1CLCRjwDX4k",
        "outputId": "7317b5a7-8f65-47d5-f1b6-de396cad4832"
      },
      "execution_count": 19,
      "outputs": [
        {
          "output_type": "stream",
          "name": "stdout",
          "text": [
            "Average price per night for AirBnb in NYC is $141.82.\n"
          ]
        }
      ]
    },
    {
      "cell_type": "markdown",
      "source": [
        "#Comparing Cost of Private Retail Market.\n",
        "\n",
        "According to Zumper, a 1 bedroom apart in NYC costs on average $3,100 per month."
      ],
      "metadata": {
        "id": "2q0oewYyF7R_"
      }
    },
    {
      "cell_type": "code",
      "source": [
        "prices[\"price_per_month\"] = prices[\"price\"] * 365 /12\n",
        "\n",
        "avergae_price_per_month = round(prices['price_per_month'].mean(), 2)\n",
        "\n",
        "print(\"Airbnb monthly costs are ${} , while in the private market you would pay {}.\".format(avergae_price_per_month, \"$3,100.00\"))"
      ],
      "metadata": {
        "colab": {
          "base_uri": "https://localhost:8080/"
        },
        "id": "OFvlEcR9FT7z",
        "outputId": "5cc7ffdf-579d-4bd0-cb01-8ef40cda4f40"
      },
      "execution_count": 22,
      "outputs": [
        {
          "output_type": "stream",
          "name": "stdout",
          "text": [
            "Airbnb monthly costs are $4313.61 , while in the private market you would pay $3,100.00.\n"
          ]
        }
      ]
    },
    {
      "cell_type": "markdown",
      "source": [
        "#Cleaning the room type Column\n",
        "\n",
        "let's dig deeper into room_type and breakdown the listing  into\n",
        "1. Private room\n",
        "2. private room\n",
        "3. PRIVATE ROOM\n",
        "\n",
        "we will clean the room_type and list the properties with one description."
      ],
      "metadata": {
        "id": "yXm_4OoAHxPh"
      }
    },
    {
      "cell_type": "code",
      "source": [
        "room_type['room_type'] = room_type['room_type'].str.lower()\n",
        "\n",
        "room_type['room_type'] = room_type['room_type'].astype(\"category\")\n",
        "\n",
        "room_frequency = room_type[\"room_type\"].value_counts()\n",
        "\n",
        "print(room_frequency)"
      ],
      "metadata": {
        "colab": {
          "base_uri": "https://localhost:8080/"
        },
        "id": "pNkvGe_YGtre",
        "outputId": "4bafb4b7-e77c-4284-ba92-b114fba60120"
      },
      "execution_count": 26,
      "outputs": [
        {
          "output_type": "stream",
          "name": "stdout",
          "text": [
            "entire home/apt    13266\n",
            "private room       11356\n",
            "shared room          587\n",
            "Name: room_type, dtype: int64\n"
          ]
        }
      ]
    },
    {
      "cell_type": "markdown",
      "source": [
        "#what timeframe are we working with ?\n",
        "\n",
        "Looks like there is fairly similar sized market opportunity for both private rooms (45% of listing) and entire home/apt (52%) on Airbnb platform in NYC.\n",
        "\n",
        "let's see our earliest and last review on the properties.\n"
      ],
      "metadata": {
        "id": "QrZu1VhuJIbM"
      }
    },
    {
      "cell_type": "code",
      "source": [
        "reviews[\"last_review\"] =pd.to_datetime(reviews['last_review'])\n",
        "\n",
        "first_reviewed = reviews['last_review'].dt.date.min()\n",
        "\n",
        "last_reviewed = reviews['last_review'].dt.date.max()\n",
        "\n",
        "print(\"the earliest Airbnb review is {}, and the latest review is {}\".format(first_reviewed, last_reviewed))"
      ],
      "metadata": {
        "colab": {
          "base_uri": "https://localhost:8080/"
        },
        "id": "37ZEVgU6IeXc",
        "outputId": "75ef779e-f34d-49f8-8363-0c6b69077bf1"
      },
      "execution_count": 28,
      "outputs": [
        {
          "output_type": "stream",
          "name": "stdout",
          "text": [
            "the earliest Airbnb review is 2019-01-01, and the latest review is 2019-07-09\n"
          ]
        }
      ]
    },
    {
      "cell_type": "markdown",
      "source": [
        "#Joining the dataframes\n",
        "\n",
        "Now we have all the required and clean information in our objects. we will combine the data we have extracted and join the tables together to get a single datafram.\n"
      ],
      "metadata": {
        "id": "4LjJRn9hKk1c"
      }
    },
    {
      "cell_type": "code",
      "source": [
        "room_and_prices = prices.merge(room_type, how=\"outer\", on=\"listing_id\")\n",
        "\n",
        "airbnb_merged = room_type.merge(room_and_prices, how=\"outer\", on=\"listing_id\")\n",
        "\n",
        "airbnb_merged.dropna(inplace=True)\n",
        "\n",
        "print(\"There are {} are duplicates in the DataFrame.\". format(airbnb_merged.duplicated().sum()))"
      ],
      "metadata": {
        "colab": {
          "base_uri": "https://localhost:8080/"
        },
        "id": "oxUaSzuRKacc",
        "outputId": "8e63abe0-2d9f-492c-a73a-99a6e6493219"
      },
      "execution_count": 29,
      "outputs": [
        {
          "output_type": "stream",
          "name": "stdout",
          "text": [
            "There are 0 are duplicates in the DataFrame.\n"
          ]
        }
      ]
    },
    {
      "cell_type": "code",
      "source": [
        "airbnb_merged.head(15).style.background_gradient()"
      ],
      "metadata": {
        "colab": {
          "base_uri": "https://localhost:8080/",
          "height": 520
        },
        "id": "G2SN8VQrLSaR",
        "outputId": "fbd0c043-edc4-44db-e3b4-ba48a3366d5f"
      },
      "execution_count": 31,
      "outputs": [
        {
          "output_type": "execute_result",
          "data": {
            "text/plain": [
              "<pandas.io.formats.style.Styler at 0x79784c1010c0>"
            ],
            "text/html": [
              "<style type=\"text/css\">\n",
              "#T_22fff_row0_col0, #T_22fff_row3_col3, #T_22fff_row3_col5 {\n",
              "  background-color: #fff7fb;\n",
              "  color: #000000;\n",
              "}\n",
              "#T_22fff_row0_col3, #T_22fff_row0_col5, #T_22fff_row13_col0, #T_22fff_row14_col0 {\n",
              "  background-color: #023858;\n",
              "  color: #f1f1f1;\n",
              "}\n",
              "#T_22fff_row1_col0 {\n",
              "  background-color: #d5d5e8;\n",
              "  color: #000000;\n",
              "}\n",
              "#T_22fff_row1_col3, #T_22fff_row1_col5, #T_22fff_row7_col3, #T_22fff_row7_col5 {\n",
              "  background-color: #f5eef6;\n",
              "  color: #000000;\n",
              "}\n",
              "#T_22fff_row2_col0 {\n",
              "  background-color: #83afd3;\n",
              "  color: #f1f1f1;\n",
              "}\n",
              "#T_22fff_row2_col3, #T_22fff_row2_col5, #T_22fff_row10_col0 {\n",
              "  background-color: #046299;\n",
              "  color: #f1f1f1;\n",
              "}\n",
              "#T_22fff_row3_col0 {\n",
              "  background-color: #7eadd1;\n",
              "  color: #f1f1f1;\n",
              "}\n",
              "#T_22fff_row4_col0, #T_22fff_row4_col3, #T_22fff_row4_col5 {\n",
              "  background-color: #79abd0;\n",
              "  color: #f1f1f1;\n",
              "}\n",
              "#T_22fff_row5_col0 {\n",
              "  background-color: #75a9cf;\n",
              "  color: #f1f1f1;\n",
              "}\n",
              "#T_22fff_row5_col3, #T_22fff_row5_col5 {\n",
              "  background-color: #a2bcda;\n",
              "  color: #000000;\n",
              "}\n",
              "#T_22fff_row6_col0 {\n",
              "  background-color: #67a4cc;\n",
              "  color: #f1f1f1;\n",
              "}\n",
              "#T_22fff_row6_col3, #T_22fff_row6_col5, #T_22fff_row8_col3, #T_22fff_row8_col5 {\n",
              "  background-color: #f9f2f8;\n",
              "  color: #000000;\n",
              "}\n",
              "#T_22fff_row7_col0 {\n",
              "  background-color: #4697c4;\n",
              "  color: #f1f1f1;\n",
              "}\n",
              "#T_22fff_row8_col0 {\n",
              "  background-color: #348ebf;\n",
              "  color: #f1f1f1;\n",
              "}\n",
              "#T_22fff_row9_col0 {\n",
              "  background-color: #056aa6;\n",
              "  color: #f1f1f1;\n",
              "}\n",
              "#T_22fff_row9_col3, #T_22fff_row9_col5, #T_22fff_row11_col3, #T_22fff_row11_col5 {\n",
              "  background-color: #96b6d7;\n",
              "  color: #000000;\n",
              "}\n",
              "#T_22fff_row10_col3, #T_22fff_row10_col5 {\n",
              "  background-color: #034a74;\n",
              "  color: #f1f1f1;\n",
              "}\n",
              "#T_22fff_row11_col0 {\n",
              "  background-color: #045b8e;\n",
              "  color: #f1f1f1;\n",
              "}\n",
              "#T_22fff_row12_col0 {\n",
              "  background-color: #03476f;\n",
              "  color: #f1f1f1;\n",
              "}\n",
              "#T_22fff_row12_col3, #T_22fff_row12_col5 {\n",
              "  background-color: #e9e5f1;\n",
              "  color: #000000;\n",
              "}\n",
              "#T_22fff_row13_col3, #T_22fff_row13_col5 {\n",
              "  background-color: #afc1dd;\n",
              "  color: #000000;\n",
              "}\n",
              "#T_22fff_row14_col3, #T_22fff_row14_col5 {\n",
              "  background-color: #fef6fb;\n",
              "  color: #000000;\n",
              "}\n",
              "</style>\n",
              "<table id=\"T_22fff\" class=\"dataframe\">\n",
              "  <thead>\n",
              "    <tr>\n",
              "      <th class=\"blank level0\" >&nbsp;</th>\n",
              "      <th id=\"T_22fff_level0_col0\" class=\"col_heading level0 col0\" >listing_id</th>\n",
              "      <th id=\"T_22fff_level0_col1\" class=\"col_heading level0 col1\" >description_x</th>\n",
              "      <th id=\"T_22fff_level0_col2\" class=\"col_heading level0 col2\" >room_type_x</th>\n",
              "      <th id=\"T_22fff_level0_col3\" class=\"col_heading level0 col3\" >price</th>\n",
              "      <th id=\"T_22fff_level0_col4\" class=\"col_heading level0 col4\" >nbhood_full</th>\n",
              "      <th id=\"T_22fff_level0_col5\" class=\"col_heading level0 col5\" >price_per_month</th>\n",
              "      <th id=\"T_22fff_level0_col6\" class=\"col_heading level0 col6\" >description_y</th>\n",
              "      <th id=\"T_22fff_level0_col7\" class=\"col_heading level0 col7\" >room_type_y</th>\n",
              "    </tr>\n",
              "  </thead>\n",
              "  <tbody>\n",
              "    <tr>\n",
              "      <th id=\"T_22fff_level0_row0\" class=\"row_heading level0 row0\" >0</th>\n",
              "      <td id=\"T_22fff_row0_col0\" class=\"data row0 col0\" >2595</td>\n",
              "      <td id=\"T_22fff_row0_col1\" class=\"data row0 col1\" >Skylit Midtown Castle</td>\n",
              "      <td id=\"T_22fff_row0_col2\" class=\"data row0 col2\" >entire home/apt</td>\n",
              "      <td id=\"T_22fff_row0_col3\" class=\"data row0 col3\" >225.000000</td>\n",
              "      <td id=\"T_22fff_row0_col4\" class=\"data row0 col4\" >Manhattan, Midtown</td>\n",
              "      <td id=\"T_22fff_row0_col5\" class=\"data row0 col5\" >6843.750000</td>\n",
              "      <td id=\"T_22fff_row0_col6\" class=\"data row0 col6\" >Skylit Midtown Castle</td>\n",
              "      <td id=\"T_22fff_row0_col7\" class=\"data row0 col7\" >entire home/apt</td>\n",
              "    </tr>\n",
              "    <tr>\n",
              "      <th id=\"T_22fff_level0_row1\" class=\"row_heading level0 row1\" >1</th>\n",
              "      <td id=\"T_22fff_row1_col0\" class=\"data row1 col0\" >3831</td>\n",
              "      <td id=\"T_22fff_row1_col1\" class=\"data row1 col1\" >Cozy Entire Floor of Brownstone</td>\n",
              "      <td id=\"T_22fff_row1_col2\" class=\"data row1 col2\" >entire home/apt</td>\n",
              "      <td id=\"T_22fff_row1_col3\" class=\"data row1 col3\" >89.000000</td>\n",
              "      <td id=\"T_22fff_row1_col4\" class=\"data row1 col4\" >Brooklyn, Clinton Hill</td>\n",
              "      <td id=\"T_22fff_row1_col5\" class=\"data row1 col5\" >2707.083333</td>\n",
              "      <td id=\"T_22fff_row1_col6\" class=\"data row1 col6\" >Cozy Entire Floor of Brownstone</td>\n",
              "      <td id=\"T_22fff_row1_col7\" class=\"data row1 col7\" >entire home/apt</td>\n",
              "    </tr>\n",
              "    <tr>\n",
              "      <th id=\"T_22fff_level0_row2\" class=\"row_heading level0 row2\" >2</th>\n",
              "      <td id=\"T_22fff_row2_col0\" class=\"data row2 col0\" >5099</td>\n",
              "      <td id=\"T_22fff_row2_col1\" class=\"data row2 col1\" >Large Cozy 1 BR Apartment In Midtown East</td>\n",
              "      <td id=\"T_22fff_row2_col2\" class=\"data row2 col2\" >entire home/apt</td>\n",
              "      <td id=\"T_22fff_row2_col3\" class=\"data row2 col3\" >200.000000</td>\n",
              "      <td id=\"T_22fff_row2_col4\" class=\"data row2 col4\" >Manhattan, Murray Hill</td>\n",
              "      <td id=\"T_22fff_row2_col5\" class=\"data row2 col5\" >6083.333333</td>\n",
              "      <td id=\"T_22fff_row2_col6\" class=\"data row2 col6\" >Large Cozy 1 BR Apartment In Midtown East</td>\n",
              "      <td id=\"T_22fff_row2_col7\" class=\"data row2 col7\" >entire home/apt</td>\n",
              "    </tr>\n",
              "    <tr>\n",
              "      <th id=\"T_22fff_level0_row3\" class=\"row_heading level0 row3\" >3</th>\n",
              "      <td id=\"T_22fff_row3_col0\" class=\"data row3 col0\" >5178</td>\n",
              "      <td id=\"T_22fff_row3_col1\" class=\"data row3 col1\" >Large Furnished Room Near B'way</td>\n",
              "      <td id=\"T_22fff_row3_col2\" class=\"data row3 col2\" >private room</td>\n",
              "      <td id=\"T_22fff_row3_col3\" class=\"data row3 col3\" >79.000000</td>\n",
              "      <td id=\"T_22fff_row3_col4\" class=\"data row3 col4\" >Manhattan, Hell's Kitchen</td>\n",
              "      <td id=\"T_22fff_row3_col5\" class=\"data row3 col5\" >2402.916667</td>\n",
              "      <td id=\"T_22fff_row3_col6\" class=\"data row3 col6\" >Large Furnished Room Near B'way</td>\n",
              "      <td id=\"T_22fff_row3_col7\" class=\"data row3 col7\" >private room</td>\n",
              "    </tr>\n",
              "    <tr>\n",
              "      <th id=\"T_22fff_level0_row4\" class=\"row_heading level0 row4\" >4</th>\n",
              "      <td id=\"T_22fff_row4_col0\" class=\"data row4 col0\" >5238</td>\n",
              "      <td id=\"T_22fff_row4_col1\" class=\"data row4 col1\" >Cute & Cozy Lower East Side 1 bdrm</td>\n",
              "      <td id=\"T_22fff_row4_col2\" class=\"data row4 col2\" >entire home/apt</td>\n",
              "      <td id=\"T_22fff_row4_col3\" class=\"data row4 col3\" >150.000000</td>\n",
              "      <td id=\"T_22fff_row4_col4\" class=\"data row4 col4\" >Manhattan, Chinatown</td>\n",
              "      <td id=\"T_22fff_row4_col5\" class=\"data row4 col5\" >4562.500000</td>\n",
              "      <td id=\"T_22fff_row4_col6\" class=\"data row4 col6\" >Cute & Cozy Lower East Side 1 bdrm</td>\n",
              "      <td id=\"T_22fff_row4_col7\" class=\"data row4 col7\" >entire home/apt</td>\n",
              "    </tr>\n",
              "    <tr>\n",
              "      <th id=\"T_22fff_level0_row5\" class=\"row_heading level0 row5\" >5</th>\n",
              "      <td id=\"T_22fff_row5_col0\" class=\"data row5 col0\" >5295</td>\n",
              "      <td id=\"T_22fff_row5_col1\" class=\"data row5 col1\" >Beautiful 1br on Upper West Side</td>\n",
              "      <td id=\"T_22fff_row5_col2\" class=\"data row5 col2\" >entire home/apt</td>\n",
              "      <td id=\"T_22fff_row5_col3\" class=\"data row5 col3\" >135.000000</td>\n",
              "      <td id=\"T_22fff_row5_col4\" class=\"data row5 col4\" >Manhattan, Upper West Side</td>\n",
              "      <td id=\"T_22fff_row5_col5\" class=\"data row5 col5\" >4106.250000</td>\n",
              "      <td id=\"T_22fff_row5_col6\" class=\"data row5 col6\" >Beautiful 1br on Upper West Side</td>\n",
              "      <td id=\"T_22fff_row5_col7\" class=\"data row5 col7\" >entire home/apt</td>\n",
              "    </tr>\n",
              "    <tr>\n",
              "      <th id=\"T_22fff_level0_row6\" class=\"row_heading level0 row6\" >6</th>\n",
              "      <td id=\"T_22fff_row6_col0\" class=\"data row6 col0\" >5441</td>\n",
              "      <td id=\"T_22fff_row6_col1\" class=\"data row6 col1\" >Central Manhattan/near Broadway</td>\n",
              "      <td id=\"T_22fff_row6_col2\" class=\"data row6 col2\" >private room</td>\n",
              "      <td id=\"T_22fff_row6_col3\" class=\"data row6 col3\" >85.000000</td>\n",
              "      <td id=\"T_22fff_row6_col4\" class=\"data row6 col4\" >Manhattan, Hell's Kitchen</td>\n",
              "      <td id=\"T_22fff_row6_col5\" class=\"data row6 col5\" >2585.416667</td>\n",
              "      <td id=\"T_22fff_row6_col6\" class=\"data row6 col6\" >Central Manhattan/near Broadway</td>\n",
              "      <td id=\"T_22fff_row6_col7\" class=\"data row6 col7\" >private room</td>\n",
              "    </tr>\n",
              "    <tr>\n",
              "      <th id=\"T_22fff_level0_row7\" class=\"row_heading level0 row7\" >7</th>\n",
              "      <td id=\"T_22fff_row7_col0\" class=\"data row7 col0\" >5803</td>\n",
              "      <td id=\"T_22fff_row7_col1\" class=\"data row7 col1\" >Lovely Room 1, Garden, Best Area, Legal rental</td>\n",
              "      <td id=\"T_22fff_row7_col2\" class=\"data row7 col2\" >private room</td>\n",
              "      <td id=\"T_22fff_row7_col3\" class=\"data row7 col3\" >89.000000</td>\n",
              "      <td id=\"T_22fff_row7_col4\" class=\"data row7 col4\" >Brooklyn, South Slope</td>\n",
              "      <td id=\"T_22fff_row7_col5\" class=\"data row7 col5\" >2707.083333</td>\n",
              "      <td id=\"T_22fff_row7_col6\" class=\"data row7 col6\" >Lovely Room 1, Garden, Best Area, Legal rental</td>\n",
              "      <td id=\"T_22fff_row7_col7\" class=\"data row7 col7\" >private room</td>\n",
              "    </tr>\n",
              "    <tr>\n",
              "      <th id=\"T_22fff_level0_row8\" class=\"row_heading level0 row8\" >8</th>\n",
              "      <td id=\"T_22fff_row8_col0\" class=\"data row8 col0\" >6021</td>\n",
              "      <td id=\"T_22fff_row8_col1\" class=\"data row8 col1\" >Wonderful Guest Bedroom in Manhattan for SINGLES</td>\n",
              "      <td id=\"T_22fff_row8_col2\" class=\"data row8 col2\" >private room</td>\n",
              "      <td id=\"T_22fff_row8_col3\" class=\"data row8 col3\" >85.000000</td>\n",
              "      <td id=\"T_22fff_row8_col4\" class=\"data row8 col4\" >Manhattan, Upper West Side</td>\n",
              "      <td id=\"T_22fff_row8_col5\" class=\"data row8 col5\" >2585.416667</td>\n",
              "      <td id=\"T_22fff_row8_col6\" class=\"data row8 col6\" >Wonderful Guest Bedroom in Manhattan for SINGLES</td>\n",
              "      <td id=\"T_22fff_row8_col7\" class=\"data row8 col7\" >private room</td>\n",
              "    </tr>\n",
              "    <tr>\n",
              "      <th id=\"T_22fff_level0_row9\" class=\"row_heading level0 row9\" >9</th>\n",
              "      <td id=\"T_22fff_row9_col0\" class=\"data row9 col0\" >6848</td>\n",
              "      <td id=\"T_22fff_row9_col1\" class=\"data row9 col1\" >Only 2 stops to Manhattan studio</td>\n",
              "      <td id=\"T_22fff_row9_col2\" class=\"data row9 col2\" >entire home/apt</td>\n",
              "      <td id=\"T_22fff_row9_col3\" class=\"data row9 col3\" >140.000000</td>\n",
              "      <td id=\"T_22fff_row9_col4\" class=\"data row9 col4\" >Brooklyn, Williamsburg</td>\n",
              "      <td id=\"T_22fff_row9_col5\" class=\"data row9 col5\" >4258.333333</td>\n",
              "      <td id=\"T_22fff_row9_col6\" class=\"data row9 col6\" >Only 2 stops to Manhattan studio</td>\n",
              "      <td id=\"T_22fff_row9_col7\" class=\"data row9 col7\" >entire home/apt</td>\n",
              "    </tr>\n",
              "    <tr>\n",
              "      <th id=\"T_22fff_level0_row10\" class=\"row_heading level0 row10\" >10</th>\n",
              "      <td id=\"T_22fff_row10_col0\" class=\"data row10 col0\" >7097</td>\n",
              "      <td id=\"T_22fff_row10_col1\" class=\"data row10 col1\" >Perfect for Your Parents + Garden</td>\n",
              "      <td id=\"T_22fff_row10_col2\" class=\"data row10 col2\" >entire home/apt</td>\n",
              "      <td id=\"T_22fff_row10_col3\" class=\"data row10 col3\" >215.000000</td>\n",
              "      <td id=\"T_22fff_row10_col4\" class=\"data row10 col4\" >Brooklyn, Fort Greene</td>\n",
              "      <td id=\"T_22fff_row10_col5\" class=\"data row10 col5\" >6539.583333</td>\n",
              "      <td id=\"T_22fff_row10_col6\" class=\"data row10 col6\" >Perfect for Your Parents + Garden</td>\n",
              "      <td id=\"T_22fff_row10_col7\" class=\"data row10 col7\" >entire home/apt</td>\n",
              "    </tr>\n",
              "    <tr>\n",
              "      <th id=\"T_22fff_level0_row11\" class=\"row_heading level0 row11\" >11</th>\n",
              "      <td id=\"T_22fff_row11_col0\" class=\"data row11 col0\" >7322</td>\n",
              "      <td id=\"T_22fff_row11_col1\" class=\"data row11 col1\" >Chelsea Perfect</td>\n",
              "      <td id=\"T_22fff_row11_col2\" class=\"data row11 col2\" >private room</td>\n",
              "      <td id=\"T_22fff_row11_col3\" class=\"data row11 col3\" >140.000000</td>\n",
              "      <td id=\"T_22fff_row11_col4\" class=\"data row11 col4\" >Manhattan, Chelsea</td>\n",
              "      <td id=\"T_22fff_row11_col5\" class=\"data row11 col5\" >4258.333333</td>\n",
              "      <td id=\"T_22fff_row11_col6\" class=\"data row11 col6\" >Chelsea Perfect</td>\n",
              "      <td id=\"T_22fff_row11_col7\" class=\"data row11 col7\" >private room</td>\n",
              "    </tr>\n",
              "    <tr>\n",
              "      <th id=\"T_22fff_level0_row12\" class=\"row_heading level0 row12\" >12</th>\n",
              "      <td id=\"T_22fff_row12_col0\" class=\"data row12 col0\" >7726</td>\n",
              "      <td id=\"T_22fff_row12_col1\" class=\"data row12 col1\" >Hip Historic Brownstone Apartment with Backyard</td>\n",
              "      <td id=\"T_22fff_row12_col2\" class=\"data row12 col2\" >entire home/apt</td>\n",
              "      <td id=\"T_22fff_row12_col3\" class=\"data row12 col3\" >99.000000</td>\n",
              "      <td id=\"T_22fff_row12_col4\" class=\"data row12 col4\" >Brooklyn, Crown Heights</td>\n",
              "      <td id=\"T_22fff_row12_col5\" class=\"data row12 col5\" >3011.250000</td>\n",
              "      <td id=\"T_22fff_row12_col6\" class=\"data row12 col6\" >Hip Historic Brownstone Apartment with Backyard</td>\n",
              "      <td id=\"T_22fff_row12_col7\" class=\"data row12 col7\" >entire home/apt</td>\n",
              "    </tr>\n",
              "    <tr>\n",
              "      <th id=\"T_22fff_level0_row13\" class=\"row_heading level0 row13\" >13</th>\n",
              "      <td id=\"T_22fff_row13_col0\" class=\"data row13 col0\" >8024</td>\n",
              "      <td id=\"T_22fff_row13_col1\" class=\"data row13 col1\" >CBG CtyBGd HelpsHaiti rm#1:1-4</td>\n",
              "      <td id=\"T_22fff_row13_col2\" class=\"data row13 col2\" >private room</td>\n",
              "      <td id=\"T_22fff_row13_col3\" class=\"data row13 col3\" >130.000000</td>\n",
              "      <td id=\"T_22fff_row13_col4\" class=\"data row13 col4\" >Brooklyn, Park Slope</td>\n",
              "      <td id=\"T_22fff_row13_col5\" class=\"data row13 col5\" >3954.166667</td>\n",
              "      <td id=\"T_22fff_row13_col6\" class=\"data row13 col6\" >CBG CtyBGd HelpsHaiti rm#1:1-4</td>\n",
              "      <td id=\"T_22fff_row13_col7\" class=\"data row13 col7\" >private room</td>\n",
              "    </tr>\n",
              "    <tr>\n",
              "      <th id=\"T_22fff_level0_row14\" class=\"row_heading level0 row14\" >14</th>\n",
              "      <td id=\"T_22fff_row14_col0\" class=\"data row14 col0\" >8025</td>\n",
              "      <td id=\"T_22fff_row14_col1\" class=\"data row14 col1\" >CBG Helps Haiti Room#2.5</td>\n",
              "      <td id=\"T_22fff_row14_col2\" class=\"data row14 col2\" >private room</td>\n",
              "      <td id=\"T_22fff_row14_col3\" class=\"data row14 col3\" >80.000000</td>\n",
              "      <td id=\"T_22fff_row14_col4\" class=\"data row14 col4\" >Brooklyn, Park Slope</td>\n",
              "      <td id=\"T_22fff_row14_col5\" class=\"data row14 col5\" >2433.333333</td>\n",
              "      <td id=\"T_22fff_row14_col6\" class=\"data row14 col6\" >CBG Helps Haiti Room#2.5</td>\n",
              "      <td id=\"T_22fff_row14_col7\" class=\"data row14 col7\" >private room</td>\n",
              "    </tr>\n",
              "  </tbody>\n",
              "</table>\n"
            ]
          },
          "metadata": {},
          "execution_count": 31
        }
      ]
    },
    {
      "cell_type": "markdown",
      "source": [
        "#Analyzing lisiting prices by NYC borough\n",
        "\n",
        "we need to extract the information from string and store it in new column for analysis.\n"
      ],
      "metadata": {
        "id": "uh8q77CALlaL"
      }
    },
    {
      "cell_type": "code",
      "source": [
        "airbnb_merged['borough'] =airbnb_merged[\"nbhood_full\"].str.partition(\",\")[0]\n",
        "\n",
        "boroughs = airbnb_merged.groupby(\"borough\")[\"price\"].agg([\"sum\", \"mean\", \"median\", \"count\"])\n",
        "\n",
        "boroughs = boroughs.round(2).sort_values(\"mean\", ascending=False)\n",
        "\n",
        "print(boroughs)"
      ],
      "metadata": {
        "colab": {
          "base_uri": "https://localhost:8080/"
        },
        "id": "S0llKvTFLYNN",
        "outputId": "e0c51283-54bc-45b7-e1cb-e594dda79fa0"
      },
      "execution_count": 33,
      "outputs": [
        {
          "output_type": "stream",
          "name": "stdout",
          "text": [
            "                     sum    mean  median  count\n",
            "borough                                        \n",
            "Manhattan      1898963.0  184.03   149.0  10319\n",
            "Brooklyn       1275435.0  122.02    95.0  10453\n",
            "Queens          320765.0   92.81    70.0   3456\n",
            "Staten Island    22974.0   86.04    71.0    267\n",
            "Bronx            55231.0   79.24    65.0    697\n"
          ]
        }
      ]
    },
    {
      "cell_type": "markdown",
      "source": [
        "#price range by borough\n",
        "\n",
        "We will assign the following categories and price ranges:\n",
        "\n",
        "label\tprice\n",
        "\n",
        "Budget\t$0-69\n",
        "\n",
        "Average\t$70-175\n",
        "\n",
        "Expensive\t$176-350\n",
        "\n",
        "Extravagant\t> $350\n"
      ],
      "metadata": {
        "id": "7q3OrFOzNWBt"
      }
    },
    {
      "cell_type": "code",
      "source": [
        "label_names = [\"Budget\", \"Avergae\", \"Expensive\", \" Extravagent\"]\n",
        "\n",
        "ranges = [0, 69, 175, 350, np.inf]\n",
        "\n",
        "airbnb_merged[\"price_range\"] = pd.cut(airbnb_merged[\"price\"], bins=ranges, labels=label_names)\n",
        "\n",
        "prices_by_borough = airbnb_merged.groupby([\"borough\", \"price_range\"])[\"price_range\"].count()\n",
        "\n",
        "print(prices_by_borough)"
      ],
      "metadata": {
        "colab": {
          "base_uri": "https://localhost:8080/"
        },
        "id": "yJS93-VuM_Uu",
        "outputId": "64dbef06-96dc-4024-fa9f-556c1e9fcb67"
      },
      "execution_count": 36,
      "outputs": [
        {
          "output_type": "stream",
          "name": "stdout",
          "text": [
            "borough        price_range \n",
            "Bronx          Budget           381\n",
            "               Avergae          286\n",
            "               Expensive         25\n",
            "                Extravagent       5\n",
            "Brooklyn       Budget          3194\n",
            "               Avergae         5534\n",
            "               Expensive       1466\n",
            "                Extravagent     259\n",
            "Manhattan      Budget          1148\n",
            "               Avergae         5288\n",
            "               Expensive       3073\n",
            "                Extravagent     810\n",
            "Queens         Budget          1632\n",
            "               Avergae         1505\n",
            "               Expensive        291\n",
            "                Extravagent      28\n",
            "Staten Island  Budget           124\n",
            "               Avergae          123\n",
            "               Expensive         20\n",
            "                Extravagent       0\n",
            "Name: price_range, dtype: int64\n"
          ]
        }
      ]
    },
    {
      "cell_type": "markdown",
      "source": [
        "#Restults and Findings\n",
        "\n",
        "1. Price Dataset : The average price per night for an Airbnb monthly cost is $141.82 , Airbnb monthly cost are $4313.61, while in the private market you would pay $3,100.00 ,\n",
        "2. Room Type Dataset :  both private rooms (45% of listings) and entire homes/apartments (52%) on the Airbnb platform in NYC.\n",
        "3. Review Dataset : The earliest Airbnb review is 2019-01-01, the latest review is 2019-07-09 which gives us a insight of property updates.\n",
        "4. price Range : we mreged extracted inforamtion to find out how many properties are in budget, average, expensive & extravagant.\n"
      ],
      "metadata": {
        "id": "OgDO--ndO9hp"
      }
    },
    {
      "cell_type": "code",
      "source": [],
      "metadata": {
        "id": "SmbE5MiSObAz"
      },
      "execution_count": null,
      "outputs": []
    }
  ]
}